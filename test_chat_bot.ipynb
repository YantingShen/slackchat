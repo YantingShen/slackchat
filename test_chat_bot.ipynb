{
 "cells": [
  {
   "cell_type": "code",
   "execution_count": 7,
   "metadata": {},
   "outputs": [
    {
     "name": "stderr",
     "output_type": "stream",
     "text": [
      "/Users/yantingshen/Library/Python/3.9/lib/python/site-packages/transformers/tokenization_utils_base.py:1601: FutureWarning: `clean_up_tokenization_spaces` was not set. It will be set to `True` by default. This behavior will be depracted in transformers v4.45, and will be then set to `False` by default. For more details check this issue: https://github.com/huggingface/transformers/issues/31884\n",
      "  warnings.warn(\n"
     ]
    },
    {
     "name": "stdout",
     "output_type": "stream",
     "text": [
      "Processed and saved 9 messages to processed_messages.pkl\n"
     ]
    }
   ],
   "source": [
    "from chatbot import SlackChatbot\n",
    "from process_slack_history import SlackHistoryProcessor\n",
    "# Initialize the chatbot\n",
    "# Process the updated dummy Slack history\n",
    "# model_name = \"roberta-base\"\n",
    "processor = SlackHistoryProcessor()\n",
    "messages = processor.load_slack_history('dummy_slack_history.json')\n",
    "processed_messages = processor.process_messages(messages)\n",
    "processor.save_processed_messages(processed_messages, 'processed_messages.pkl')\n",
    "\n"
   ]
  },
  {
   "cell_type": "code",
   "execution_count": 8,
   "metadata": {},
   "outputs": [],
   "source": [
    "chatbot = SlackChatbot()"
   ]
  },
  {
   "cell_type": "code",
   "execution_count": 12,
   "metadata": {},
   "outputs": [
    {
     "name": "stdout",
     "output_type": "stream",
     "text": [
      "User: Show me all PRs that deployed apple.\n",
      "Chatbot: ('PR #123 has been merged to deploy the apple service to customer A.', '1610000005.000600')\n"
     ]
    }
   ],
   "source": [
    "# Test the chatbot with some input\n",
    "user_question = \"Show me all PRs that deployed apple.\"\n",
    "response = chatbot.ask_question(user_question)\n",
    "print(f\"User: {user_question}\")\n",
    "print(f\"Chatbot: {response}\")"
   ]
  },
  {
   "cell_type": "code",
   "execution_count": null,
   "metadata": {},
   "outputs": [],
   "source": []
  }
 ],
 "metadata": {
  "kernelspec": {
   "display_name": "Python 3",
   "language": "python",
   "name": "python3"
  },
  "language_info": {
   "codemirror_mode": {
    "name": "ipython",
    "version": 3
   },
   "file_extension": ".py",
   "mimetype": "text/x-python",
   "name": "python",
   "nbconvert_exporter": "python",
   "pygments_lexer": "ipython3",
   "version": "3.9.6"
  }
 },
 "nbformat": 4,
 "nbformat_minor": 2
}
